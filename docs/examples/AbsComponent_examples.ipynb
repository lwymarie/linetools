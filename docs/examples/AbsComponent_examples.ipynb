{
 "cells": [
  {
   "cell_type": "markdown",
   "metadata": {},
   "source": [
    "# Examples for the AbsComponent Class (v1.1)"
   ]
  },
  {
   "cell_type": "code",
   "execution_count": 10,
   "metadata": {
    "collapsed": false
   },
   "outputs": [],
   "source": [
    "%matplotlib inline\n",
    "\n",
    "# suppress warnings for these examples\n",
    "import warnings\n",
    "warnings.filterwarnings('ignore')"
   ]
  },
  {
   "cell_type": "code",
   "execution_count": 11,
   "metadata": {
    "collapsed": false
   },
   "outputs": [],
   "source": [
    "# import\n",
    "try:\n",
    "    import seaborn as sns; sns.set_style(\"white\")\n",
    "except:\n",
    "    pass\n",
    "import numpy as np\n",
    "from astropy.table import QTable\n",
    "import astropy.units as u\n",
    "from linetools.spectralline import AbsLine\n",
    "from linetools.isgm import utils as ltiu\n",
    "from linetools.analysis import absline as laa\n",
    "from linetools.spectra import io as lsio\n",
    "from linetools.isgm.abscomponent import AbsComponent\n",
    "import linetools.analysis.voigt as lav\n",
    "\n",
    "import imp\n",
    "lt_path = imp.find_module('linetools')[1]"
   ]
  },
  {
   "cell_type": "markdown",
   "metadata": {},
   "source": [
    "## Instantiate"
   ]
  },
  {
   "cell_type": "markdown",
   "metadata": {},
   "source": [
    "### Standard"
   ]
  },
  {
   "cell_type": "code",
   "execution_count": 12,
   "metadata": {
    "collapsed": false
   },
   "outputs": [
    {
     "data": {
      "text/plain": [
       "<AbsComponent: 00:40:00 +45:00:00, Name=SiII_z1.00000, Zion=(14,2), Ej=0 1 / cm, z=1, vlim=-300 km / s,300 km / s>"
      ]
     },
     "execution_count": 12,
     "metadata": {},
     "output_type": "execute_result"
    }
   ],
   "source": [
    "abscomp = AbsComponent((10.0*u.deg, 45*u.deg), (14,2), 1.0, [-300,300]*u.km/u.s)\n",
    "abscomp"
   ]
  },
  {
   "cell_type": "markdown",
   "metadata": {
    "collapsed": true
   },
   "source": [
    "### From AbsLines"
   ]
  },
  {
   "cell_type": "markdown",
   "metadata": {},
   "source": [
    "#### From one line"
   ]
  },
  {
   "cell_type": "code",
   "execution_count": 13,
   "metadata": {
    "collapsed": false
   },
   "outputs": [],
   "source": [
    "lya = AbsLine(1215.670*u.AA, z=2.92939)\n",
    "lya.limits.set([-300.,300.]*u.km/u.s)  # vlim"
   ]
  },
  {
   "cell_type": "code",
   "execution_count": 14,
   "metadata": {
    "collapsed": false
   },
   "outputs": [
    {
     "name": "stdout",
     "output_type": "stream",
     "text": [
      "<AbsComponent: 00:00:00 +00:00:00, Name=HI_z2.92939, Zion=(1,1), Ej=0 1 / cm, z=2.92939, vlim=-300 km / s,300 km / s>\n"
     ]
    },
    {
     "data": {
      "text/plain": [
       "[<AbsLine: HI 1215, z=2.9294 wrest=1215.6700 Angstrom, f=0.4164>]"
      ]
     },
     "execution_count": 14,
     "metadata": {},
     "output_type": "execute_result"
    }
   ],
   "source": [
    "abscomp = AbsComponent.from_abslines([lya])\n",
    "print(abscomp)\n",
    "abscomp._abslines"
   ]
  },
  {
   "cell_type": "markdown",
   "metadata": {},
   "source": [
    "#### From multiple"
   ]
  },
  {
   "cell_type": "code",
   "execution_count": 15,
   "metadata": {
    "collapsed": false
   },
   "outputs": [],
   "source": [
    "lyb = AbsLine(1025.7222*u.AA, z=lya.z)\n",
    "lyb.limits.set([-300.,300.]*u.km/u.s)  # vlim"
   ]
  },
  {
   "cell_type": "code",
   "execution_count": 16,
   "metadata": {
    "collapsed": false
   },
   "outputs": [
    {
     "name": "stdout",
     "output_type": "stream",
     "text": [
      "<AbsComponent: 00:00:00 +00:00:00, Name=HI_z2.92939, Zion=(1,1), Ej=0 1 / cm, z=2.92939, vlim=-300 km / s,300 km / s>\n"
     ]
    },
    {
     "data": {
      "text/plain": [
       "[<AbsLine: HI 1215, z=2.9294 wrest=1215.6700 Angstrom, f=0.4164>,\n",
       " <AbsLine: HI 1025, z=2.9294 wrest=1025.7222 Angstrom, f=0.07914>]"
      ]
     },
     "execution_count": 16,
     "metadata": {},
     "output_type": "execute_result"
    }
   ],
   "source": [
    "abscomp = AbsComponent.from_abslines([lya,lyb])\n",
    "print(abscomp)\n",
    "abscomp._abslines"
   ]
  },
  {
   "cell_type": "code",
   "execution_count": 17,
   "metadata": {
    "collapsed": false
   },
   "outputs": [
    {
     "name": "stdout",
     "output_type": "stream",
     "text": [
      "Loading abundances from Asplund2009\n",
      "Abundances are relative by number on a logarithmic scale with H=12\n"
     ]
    }
   ],
   "source": [
    "#### Define from QTable and make an spectrum model\n",
    "\n",
    "# We first create a QTable with the most relevant information for defining AbsComponents\n",
    "tab = QTable()\n",
    "tab['ion_name'] = ['HI', 'HI']\n",
    "tab['z_comp'] = [0.2, 0.15]  # you should put the right redshifts here\n",
    "tab['logN'] = [19., 19.]  # you should put the right column densities here\n",
    "tab['sig_logN'] = [0.1, 0.1]  # you should put the right column density uncertainties here\n",
    "tab['flag_logN'] = [1, 1] # Flags correspond to linetools notation\n",
    "tab['RA'] = [0, 0]*u.deg  # you should put the right coordinates here\n",
    "tab['DEC'] = [0, 0]*u.deg  # you should put the right coordinates here\n",
    "tab['vmin'] = [-100, -100]*u.km/u.s  # This correspond to the velocity lower limit for the absorption components\n",
    "tab['vmax'] = [100, 100]*u.km/u.s  # This correspond to the velocity upper limit for the absorption components\n",
    "tab['b'] = [20, 20]*u.km/u.s  # you should put the right Dopper parameters here \n",
    "\n",
    "# We now use this table to create a list of AbsComponents\n",
    "complist = ltiu.complist_from_table(tab) \n",
    "\n",
    "# Now we need to add AbsLines to the component that are relevant for your spectrum\n",
    "# This will be done by knowing the observed wavelength limits\n",
    "wvlim = [1150, 1750]*u.AA\n",
    "for comp in complist:\n",
    "    comp.add_abslines_from_linelist(llist='HI') # you can also use llist=\"ISM\" if you have other non HI components\n",
    "\n",
    "# Finally, we can create a model spectrum for each AbsCompontent\n",
    "wv_array = np.arange(1150,1750, 0.01) * u.AA  # This should match your spectrum wavelength array \n",
    "model_1 = ltav.voigt_from_components(wv_array, [complist[0]])"
   ]
  },
  {
   "cell_type": "markdown",
   "metadata": {},
   "source": [
    "## Methods"
   ]
  },
  {
   "cell_type": "markdown",
   "metadata": {},
   "source": [
    "### Generate a Component Table"
   ]
  },
  {
   "cell_type": "code",
   "execution_count": 18,
   "metadata": {
    "collapsed": false
   },
   "outputs": [
    {
     "data": {
      "text/plain": [
       "(<Quantity 141253754462275.53 1 / cm2>, <Quantity 61797269977312.6 1 / cm2>)"
      ]
     },
     "execution_count": 18,
     "metadata": {},
     "output_type": "execute_result"
    }
   ],
   "source": [
    "lya.attrib['logN'] = 14.1\n",
    "lya.attrib['sig_logN'] = 0.15\n",
    "lya.attrib['flag_N'] = 1\n",
    "laa.linear_clm(lya.attrib)\n",
    "lyb.attrib['logN'] = 14.15\n",
    "lyb.attrib['sig_logN'] = 0.19\n",
    "lyb.attrib['flag_N'] = 1\n",
    "laa.linear_clm(lyb.attrib)"
   ]
  },
  {
   "cell_type": "code",
   "execution_count": 19,
   "metadata": {
    "collapsed": false
   },
   "outputs": [
    {
     "data": {
      "text/html": [
       "&lt;QTable length=2&gt;\n",
       "<table id=\"table140051274184464\" class=\"table-striped table-bordered table-condensed\">\n",
       "<thead><tr><th>wrest</th><th>z</th><th>flag_N</th><th>logN</th><th>sig_logN</th></tr></thead>\n",
       "<thead><tr><th>Angstrom</th><th></th><th></th><th></th><th></th></tr></thead>\n",
       "<thead><tr><th>float64</th><th>float64</th><th>int64</th><th>float64</th><th>float64</th></tr></thead>\n",
       "<tr><td>1215.67</td><td>2.92939</td><td>1</td><td>14.1</td><td>0.15</td></tr>\n",
       "<tr><td>1025.7222</td><td>2.92939</td><td>1</td><td>14.15</td><td>0.19</td></tr>\n",
       "</table>"
      ],
      "text/plain": [
       "<QTable length=2>\n",
       "  wrest      z    flag_N   logN  sig_logN\n",
       " Angstrom                                \n",
       " float64  float64 int64  float64 float64 \n",
       "--------- ------- ------ ------- --------\n",
       "  1215.67 2.92939      1    14.1     0.15\n",
       "1025.7222 2.92939      1   14.15     0.19"
      ]
     },
     "execution_count": 19,
     "metadata": {},
     "output_type": "execute_result"
    }
   ],
   "source": [
    "abscomp = AbsComponent.from_abslines([lya,lyb])\n",
    "comp_tbl = abscomp.build_table()\n",
    "comp_tbl"
   ]
  },
  {
   "cell_type": "markdown",
   "metadata": {},
   "source": [
    "### Synthesize multiple components"
   ]
  },
  {
   "cell_type": "code",
   "execution_count": 20,
   "metadata": {
    "collapsed": false
   },
   "outputs": [],
   "source": [
    "SiIItrans = ['SiII 1260', 'SiII 1304', 'SiII 1526']\n",
    "SiIIlines = []\n",
    "for trans in SiIItrans:\n",
    "    iline = AbsLine(trans, z=2.92939)\n",
    "    iline.attrib['logN'] = 12.8 + np.random.rand()\n",
    "    iline.attrib['sig_logN'] = 0.15\n",
    "    iline.attrib['flag_N'] = 1\n",
    "    iline.limits.set([-300.,50.]*u.km/u.s)  # vlim\n",
    "    _,_ = laa.linear_clm(iline.attrib)\n",
    "    SiIIlines.append(iline)\n",
    "SiIIcomp = AbsComponent.from_abslines(SiIIlines)\n",
    "SiIIcomp.synthesize_colm()"
   ]
  },
  {
   "cell_type": "code",
   "execution_count": 21,
   "metadata": {
    "collapsed": true
   },
   "outputs": [],
   "source": [
    "SiIIlines2 = []\n",
    "for trans in SiIItrans:\n",
    "    iline = AbsLine(trans, z=2.92939)\n",
    "    iline.attrib['logN'] = 13.3 + np.random.rand()\n",
    "    iline.attrib['sig_logN'] = 0.15\n",
    "    iline.attrib['flag_N'] = 1\n",
    "    iline.limits.set([50.,300.]*u.km/u.s)  # vlim\n",
    "    _,_ = laa.linear_clm(iline.attrib)\n",
    "    SiIIlines2.append(iline)\n",
    "SiIIcomp2 = AbsComponent.from_abslines(SiIIlines2)\n",
    "SiIIcomp2.synthesize_colm()"
   ]
  },
  {
   "cell_type": "code",
   "execution_count": 22,
   "metadata": {
    "collapsed": false
   },
   "outputs": [
    {
     "data": {
      "text/plain": [
       "[<AbsComponent: 00:00:00 +00:00:00, Name=HI_z2.92939, Zion=(1,1), Ej=0 1 / cm, z=2.92939, vlim=-300 km / s,300 km / s, logN=14.1172, sig_logN=0.117912, flag_N=1>,\n",
       " <AbsComponent: 00:00:00 +00:00:00, Name=SiII_z2.92939, Zion=(14,2), Ej=0 1 / cm, z=2.92939, vlim=-300 km / s,50 km / s, logN=13.2701, sig_logN=0.0913738, flag_N=1>,\n",
       " <AbsComponent: 00:00:00 +00:00:00, Name=SiII_z2.92939, Zion=(14,2), Ej=0 1 / cm, z=2.92939, vlim=50 km / s,300 km / s, logN=13.5902, sig_logN=0.0871858, flag_N=1>]"
      ]
     },
     "execution_count": 22,
     "metadata": {},
     "output_type": "execute_result"
    }
   ],
   "source": [
    "abscomp.synthesize_colm()\n",
    "[abscomp,SiIIcomp,SiIIcomp2]"
   ]
  },
  {
   "cell_type": "code",
   "execution_count": 23,
   "metadata": {
    "collapsed": false
   },
   "outputs": [
    {
     "data": {
      "text/plain": [
       "<AbsComponent: 00:00:00 +00:00:00, Name=SiII_z2.92939, Zion=(14,2), Ej=0 1 / cm, z=2.92939, vlim=-300 km / s,300 km / s, logN=13.7601, sig_logN=0.0659686, flag_N=1>"
      ]
     },
     "execution_count": 23,
     "metadata": {},
     "output_type": "execute_result"
    }
   ],
   "source": [
    "synth_SiII = ltiu.synthesize_components([SiIIcomp,SiIIcomp2])\n",
    "synth_SiII"
   ]
  },
  {
   "cell_type": "markdown",
   "metadata": {},
   "source": [
    "### Generate multiple components from abslines"
   ]
  },
  {
   "cell_type": "code",
   "execution_count": 24,
   "metadata": {
    "collapsed": false
   },
   "outputs": [
    {
     "data": {
      "text/plain": [
       "[<AbsComponent: 00:00:00 +00:00:00, Name=HI_z2.92939, Zion=(1,1), Ej=0 1 / cm, z=2.92939, vlim=-300 km / s,300 km / s>,\n",
       " <AbsComponent: 00:00:00 +00:00:00, Name=SiII_z2.92939, Zion=(14,2), Ej=0 1 / cm, z=2.92939, vlim=-300 km / s,50 km / s>]"
      ]
     },
     "execution_count": 24,
     "metadata": {},
     "output_type": "execute_result"
    }
   ],
   "source": [
    "comps = ltiu.build_components_from_abslines([lya,lyb,SiIIlines[0],SiIIlines[1]])\n",
    "comps"
   ]
  },
  {
   "cell_type": "markdown",
   "metadata": {},
   "source": [
    "### Generate an Ion Table"
   ]
  },
  {
   "cell_type": "code",
   "execution_count": 25,
   "metadata": {
    "collapsed": false
   },
   "outputs": [
    {
     "data": {
      "text/html": [
       "&lt;Table length=2&gt;\n",
       "<table id=\"table140051290230608\" class=\"table-striped table-bordered table-condensed\">\n",
       "<thead><tr><th>Z</th><th>ion</th><th>A</th><th>Ej</th><th>z</th><th>vmin</th><th>vmax</th><th>flag_N</th><th>logN</th><th>sig_logN</th></tr></thead>\n",
       "<thead><tr><th></th><th></th><th></th><th>1 / cm</th><th></th><th>km / s</th><th>km / s</th><th></th><th></th><th></th></tr></thead>\n",
       "<thead><tr><th>int64</th><th>int64</th><th>int64</th><th>float64</th><th>float64</th><th>float64</th><th>float64</th><th>int64</th><th>float64</th><th>float64</th></tr></thead>\n",
       "<tr><td>1</td><td>1</td><td>0</td><td>0.0</td><td>2.92939</td><td>-300.0</td><td>300.0</td><td>1</td><td>14.1172024817</td><td>0.117911610801</td></tr>\n",
       "<tr><td>14</td><td>2</td><td>0</td><td>0.0</td><td>2.92939</td><td>-300.0</td><td>300.0</td><td>1</td><td>13.7600597799</td><td>0.0659686064528</td></tr>\n",
       "</table>"
      ],
      "text/plain": [
       "<Table length=2>\n",
       "  Z    ion    A      Ej   ...   vmax  flag_N      logN         sig_logN   \n",
       "                   1 / cm ...  km / s                                     \n",
       "int64 int64 int64 float64 ... float64 int64     float64        float64    \n",
       "----- ----- ----- ------- ... ------- ------ ------------- ---------------\n",
       "    1     1     0     0.0 ...   300.0      1 14.1172024817  0.117911610801\n",
       "   14     2     0     0.0 ...   300.0      1 13.7600597799 0.0659686064528"
      ]
     },
     "execution_count": 25,
     "metadata": {},
     "output_type": "execute_result"
    }
   ],
   "source": [
    "tbl = ltiu.iontable_from_components([abscomp,SiIIcomp,SiIIcomp2])\n",
    "tbl"
   ]
  },
  {
   "cell_type": "markdown",
   "metadata": {},
   "source": [
    "### Stack plot"
   ]
  },
  {
   "cell_type": "markdown",
   "metadata": {},
   "source": [
    "#### Load a spectrum"
   ]
  },
  {
   "cell_type": "code",
   "execution_count": 26,
   "metadata": {
    "collapsed": true
   },
   "outputs": [],
   "source": [
    "xspec = lsio.readspec(lt_path+'/spectra/tests/files/UM184_nF.fits')\n",
    "lya.analy['spec'] = xspec\n",
    "lyb.analy['spec'] = xspec"
   ]
  },
  {
   "cell_type": "markdown",
   "metadata": {},
   "source": [
    "#### Show"
   ]
  },
  {
   "cell_type": "code",
   "execution_count": 27,
   "metadata": {
    "collapsed": false
   },
   "outputs": [
    {
     "data": {
      "image/png": "[encoded data removed]",
      "text/plain": [
       "<matplotlib.figure.Figure at 0x7f603d4b60d0>"
      ]
     },
     "metadata": {},
     "output_type": "display_data"
    }
   ],
   "source": [
    "abscomp = AbsComponent.from_abslines([lya,lyb])\n",
    "abscomp.stack_plot()"
   ]
  },
  {
   "cell_type": "code",
   "execution_count": null,
   "metadata": {
    "collapsed": true
   },
   "outputs": [],
   "source": [
    ""
   ]
  }
 ],
 "metadata": {
  "kernelspec": {
   "display_name": "Python 2",
   "language": "python",
   "name": "python2"
  },
  "language_info": {
   "codemirror_mode": {
    "name": "ipython",
    "version": 2.0
   },
   "file_extension": ".py",
   "mimetype": "text/x-python",
   "name": "python",
   "nbconvert_exporter": "python",
   "pygments_lexer": "ipython2",
   "version": "2.7.12"
  }
 },
 "nbformat": 4,
 "nbformat_minor": 0
}